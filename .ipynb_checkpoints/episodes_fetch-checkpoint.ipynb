{
 "cells": [
  {
   "cell_type": "code",
   "execution_count": 40,
   "id": "e67e4ff1-27e6-453f-8acd-ad7bd47397ea",
   "metadata": {},
   "outputs": [],
   "source": [
    "import requests\n",
    "from bs4 import BeautifulSoup\n",
    "from datetime import datetime, date\n",
    "from re import search"
   ]
  },
  {
   "cell_type": "code",
   "execution_count": 80,
   "id": "fb45ccd9-4f76-40e1-9796-24c16da925b9",
   "metadata": {},
   "outputs": [],
   "source": [
    "episodes = ()\n",
    "\n",
    "for i in range(2):\n",
    "    season: int = i+1\n",
    "\n",
    "    resp = requests.get(f'https://www.imdb.com/title/tt9184820/episodes?season={season}')\n",
    "    soup = BeautifulSoup(resp.content, 'html.parser')\n",
    "\n",
    "    for episode_data in soup.find_all('div', {'itemprop': 'episodes'}):\n",
    "        episode_number: int = int(episode_data.find('meta', {'itemprop': 'episodeNumber'})['content'])\n",
    "        title: str = episode_data.find('a', {'itemprop': 'name'}).text.strip()\n",
    "        air_date_raw: str = episode_data.find('div', {'class': 'airdate'}).text.strip().replace('.', '')\n",
    "        if search('^(\\d{1})\\s', air_date_raw):\n",
    "            air_date_raw = f'0{air_date_raw}'\n",
    "\n",
    "        air_date: date = datetime.strptime(air_date_raw, '%d %b %Y').date()\n",
    "        data = {'season': season, 'episode': episode_number, 'title': title, 'broadcast_date': air_date}\n",
    "        episodes += (data,)"
   ]
  },
  {
   "cell_type": "code",
   "execution_count": 81,
   "id": "53030158-1d47-4937-803d-b12a6851f75c",
   "metadata": {},
   "outputs": [
    {
     "name": "stdout",
     "output_type": "stream",
     "text": [
      "(11,1,1,'Second Contact','2020-08-05'),\n",
      "(11,1,2,'Envoys','2020-08-13'),\n",
      "(11,1,3,'Temporal Edict','2020-08-20'),\n",
      "(11,1,4,'Moist Vessel','2020-08-27'),\n",
      "(11,1,5,'Cupid''s Errant Arrow','2020-09-03'),\n",
      "(11,1,6,'Terminal Provocations','2020-09-10'),\n",
      "(11,1,7,'Much Ado About Boimler','2020-09-17'),\n",
      "(11,1,8,'Veritas','2020-09-24'),\n",
      "(11,1,9,'Crisis Point','2020-10-01'),\n",
      "(11,1,10,'No Small Parts','2020-10-08'),\n",
      "(11,2,1,'Strange Energies','2021-08-12'),\n",
      "(11,2,2,'Kayshon, His Eyes Open','2021-08-19'),\n",
      "(11,2,3,'We''ll Always Have Tom Paris','2021-08-26'),\n",
      "(11,2,4,'Mugato, Gumato','2021-09-02'),\n",
      "(11,2,5,'An Embarrassment of Dooplers','2021-09-09'),\n",
      "(11,2,6,'The Spy Humongous','2021-09-16'),\n",
      "(11,2,7,'Where Pleasant Fountains Lie','2021-09-23'),\n",
      "(11,2,8,'Episode #2.8','2021-09-30'),\n",
      "(11,2,9,'Episode #2.9','2021-10-07'),\n",
      "(11,2,10,'Episode #2.10','2021-10-14'),\n"
     ]
    }
   ],
   "source": [
    "for ep in episodes:\n",
    "    title = ep.get('title')\n",
    "    if search(\"'\", title):\n",
    "        title = title.replace(\"'\", \"''\")\n",
    "    print(f\"(11,{ep.get('season')},{ep.get('episode')},'{title}','{ep.get('broadcast_date')}'),\")"
   ]
  },
  {
   "cell_type": "code",
   "execution_count": null,
   "id": "e4e071b5-8d73-44b4-9537-1e41a810046a",
   "metadata": {},
   "outputs": [],
   "source": []
  },
  {
   "cell_type": "code",
   "execution_count": null,
   "id": "9ee07985-f5ea-44de-b0c9-32559c50fef9",
   "metadata": {},
   "outputs": [],
   "source": []
  }
 ],
 "metadata": {
  "kernelspec": {
   "display_name": "Python 3 (ipykernel)",
   "language": "python",
   "name": "python3"
  },
  "language_info": {
   "codemirror_mode": {
    "name": "ipython",
    "version": 3
   },
   "file_extension": ".py",
   "mimetype": "text/x-python",
   "name": "python",
   "nbconvert_exporter": "python",
   "pygments_lexer": "ipython3",
   "version": "3.9.7"
  }
 },
 "nbformat": 4,
 "nbformat_minor": 5
}
